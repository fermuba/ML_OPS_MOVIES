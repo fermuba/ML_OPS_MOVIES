{
  "nbformat": 4,
  "nbformat_minor": 0,
  "metadata": {
    "colab": {
      "provenance": [],
      "gpuType": "T4",
      "authorship_tag": "ABX9TyNQubchcvOztNWCC6hGNZ9p",
      "include_colab_link": true
    },
    "kernelspec": {
      "name": "python3",
      "display_name": "Python 3"
    },
    "language_info": {
      "name": "python"
    }
  },
  "cells": [
    {
      "cell_type": "markdown",
      "metadata": {
        "id": "view-in-github",
        "colab_type": "text"
      },
      "source": [
        "<a href=\"https://colab.research.google.com/github/fermuba/ML_OPS_MOVIES/blob/main/ML_Colab/ML_Recomendaciones.ipynb\" target=\"_parent\"><img src=\"https://colab.research.google.com/assets/colab-badge.svg\" alt=\"Open In Colab\"/></a>"
      ]
    },
    {
      "cell_type": "code",
      "execution_count": 1,
      "metadata": {
        "colab": {
          "base_uri": "https://localhost:8080/"
        },
        "id": "5cymzSnjqkZk",
        "outputId": "ad8cfdf5-fe2b-434e-9bb6-c757d0d5d77c"
      },
      "outputs": [
        {
          "output_type": "stream",
          "name": "stdout",
          "text": [
            "Drive already mounted at /content/drive; to attempt to forcibly remount, call drive.mount(\"/content/drive\", force_remount=True).\n"
          ]
        }
      ],
      "source": [
        "# Acceso a los archivos de Drive\n",
        "from google.colab import drive\n",
        "\n",
        "drive.mount('/content/drive')"
      ]
    },
    {
      "cell_type": "code",
      "execution_count": 2,
      "metadata": {
        "id": "NeWbo-dcD1-v"
      },
      "outputs": [],
      "source": [
        "# Carga de Librerias de uso\n",
        "import pandas as pd\n",
        "import numpy as np\n",
        "from sklearn.feature_extraction.text import TfidfVectorizer\n",
        "from sklearn.metrics.pairwise import linear_kernel\n"
      ]
    },
    {
      "cell_type": "code",
      "source": [
        "# Insgesta de archivos\n",
        "movie = pd.read_csv('/content/drive/MyDrive/Colab/HENRY/PI-1/DS_Movie_clean/movies_clean.csv')\n",
        "genero = pd.read_csv('/content/drive/MyDrive/Colab/HENRY/PI-1/DS_Movie_clean/movies_genres_clean.csv')\n",
        "cast = pd.read_csv('/content/drive/MyDrive/Colab/HENRY/PI-1/DS_Movie_clean/credits_cast_clean.csv')\n",
        "\n",
        "#Eliminacion de la primera columna que aparece con la exportacion de los archivos\n",
        "if genero.columns[0] == 'Unnamed: 0':\n",
        "  genero.drop(columns= 'Unnamed: 0', inplace= True)\n",
        "\n",
        "if movie.columns[0] == 'Unnamed: 0':\n",
        "  movie.drop(columns= 'Unnamed: 0', inplace= True)\n",
        "\n",
        "if cast.columns[0] == 'Unnamed: 0':\n",
        "  cast.drop(columns= 'Unnamed: 0', inplace= True)"
      ],
      "metadata": {
        "id": "9TatDv0iEW_D"
      },
      "execution_count": 3,
      "outputs": []
    },
    {
      "cell_type": "markdown",
      "source": [
        "# Sistema de Recomendación"
      ],
      "metadata": {
        "id": "iN1yXTECty8H"
      }
    },
    {
      "cell_type": "code",
      "source": [
        "# Creacion de un dataframe mas pequeño por el consumo de recursos no se puede usar la totalidad\n",
        "movie_new = movie[['id_movie', 'title']]\n",
        "movie_df = movie_new.head(27000)\n",
        "\n",
        "# Combinacion de los DataFrames movies_df y genero con la columna id_movie como referencia\n",
        "combined_df = pd.merge(movie_df, genero, on='id_movie')\n",
        "\n",
        "# Creacion de una lista de los géneros por película\n",
        "combined_df['genres'] = combined_df.iloc[:, 2:].apply(lambda x: ' '.join(x.index[x]), axis=1)\n",
        "\n",
        "# Creacion de la matriz de características utilizando TF-IDF\n",
        "vectorizer = TfidfVectorizer()\n",
        "features_matrix = vectorizer.fit_transform(combined_df['genres'])\n",
        "\n",
        "# Calculo la similitud del coseno entre las películas para determinar relaciones\n",
        "similarity_matrix = linear_kernel(features_matrix, features_matrix)\n",
        "\n",
        "# Función para obtener las recomendaciones\n",
        "def get_recommendations(movie_title, similarity_matrix, movies_df, top_n=5):\n",
        "    # Obtencion del índice de la película de referencia ingresada\n",
        "    idx = movies_df[movies_df['title'] == movie_title].index[0]\n",
        "\n",
        "    # Puntajes de similitud de las películas usando la matriz de similitud\n",
        "    similarity_scores = list(enumerate(similarity_matrix[idx]))\n",
        "\n",
        "    # Ordenar las películas por su puntaje\n",
        "    similarity_scores = sorted(similarity_scores, key=lambda x: x[1], reverse=True)\n",
        "\n",
        "    # Se obtienen los índices de las 5 peliculas más similares\n",
        "    top_indices = [score[0] for score in similarity_scores[1:top_n+1]]\n",
        "\n",
        "    # Titulos de las peliculas de los indices obtenidos\n",
        "    top_movies = movies_df.iloc[top_indices]['title'].tolist()\n",
        "\n",
        "    return top_movies\n",
        "\n",
        "\n"
      ],
      "metadata": {
        "id": "CV_-OMmF56tg"
      },
      "execution_count": 4,
      "outputs": []
    },
    {
      "cell_type": "markdown",
      "source": [
        "## Recomendaciones de 5 peliculas Ejemplo"
      ],
      "metadata": {
        "id": "7xhQI257Zmzp"
      }
    },
    {
      "cell_type": "code",
      "source": [
        "# Toy Story\n",
        "recommendations = get_recommendations('Toy Story', similarity_matrix, movie_df)\n",
        "print(recommendations)"
      ],
      "metadata": {
        "colab": {
          "base_uri": "https://localhost:8080/"
        },
        "id": "6n_JYmpvrByS",
        "outputId": "9abe5233-9c00-4435-aa9b-fbc698e7cfd0"
      },
      "execution_count": 5,
      "outputs": [
        {
          "output_type": "stream",
          "name": "stdout",
          "text": [
            "['Oliver & Company', 'A Close Shave', 'The Wrong Trousers', 'Meet the Deedles', 'The Great Mouse Detective']\n"
          ]
        }
      ]
    },
    {
      "cell_type": "code",
      "source": [
        "# Cars\n",
        "recommendations = get_recommendations('Cars', similarity_matrix, movie_df)\n",
        "print(recommendations)"
      ],
      "metadata": {
        "id": "ii3f_1KfI0hj",
        "colab": {
          "base_uri": "https://localhost:8080/"
        },
        "outputId": "fa0110df-46c5-4907-f35b-e74455d73511"
      },
      "execution_count": 6,
      "outputs": [
        {
          "output_type": "stream",
          "name": "stdout",
          "text": [
            "['One Hundred and One Dalmatians', 'Antz', \"A Bug's Life\", 'The Road to El Dorado', 'Rugrats in Paris: The Movie']\n"
          ]
        }
      ]
    },
    {
      "cell_type": "code",
      "source": [
        "# To Die For\n",
        "recommendations = get_recommendations('To Die For', similarity_matrix, movie_df)\n",
        "print(recommendations)"
      ],
      "metadata": {
        "id": "RTHxPvIKKoUz",
        "colab": {
          "base_uri": "https://localhost:8080/"
        },
        "outputId": "795bf31e-b1cf-4b25-9095-716614e5f5b4"
      },
      "execution_count": 7,
      "outputs": [
        {
          "output_type": "stream",
          "name": "stdout",
          "text": [
            "['The Brass Teapot', 'Left Behind II: Tribulation Force', 'Destiny', 'Neverwas', 'Dorian Gray']\n"
          ]
        }
      ]
    },
    {
      "cell_type": "code",
      "source": [
        "# Men in Black\n",
        "recommendations = get_recommendations('Men in Black', similarity_matrix, movie_df)\n",
        "print(recommendations)"
      ],
      "metadata": {
        "colab": {
          "base_uri": "https://localhost:8080/"
        },
        "id": "UH3cxArgDHYY",
        "outputId": "dad5c750-ff0e-474f-d2b1-9ef68e0ce0fe"
      },
      "execution_count": 8,
      "outputs": [
        {
          "output_type": "stream",
          "name": "stdout",
          "text": [
            "['Men in Black II', 'Double Dragon', 'Alien Trespass', 'Radioactive Dreams', 'Guardians of the Galaxy Vol. 2']\n"
          ]
        }
      ]
    },
    {
      "cell_type": "code",
      "source": [
        "# Star Wars\n",
        "recommendations = get_recommendations('Star Wars', similarity_matrix, movie_df)\n",
        "print(recommendations)"
      ],
      "metadata": {
        "id": "imFEqbiy-2NJ",
        "colab": {
          "base_uri": "https://localhost:8080/"
        },
        "outputId": "7aee0c52-eaa8-4a4a-adc5-9c057ec0bfb4"
      },
      "execution_count": 9,
      "outputs": [
        {
          "output_type": "stream",
          "name": "stdout",
          "text": [
            "['Stargate', 'Independence Day', 'The Empire Strikes Back', 'Return of the Jedi', 'Forbidden Planet']\n"
          ]
        }
      ]
    }
  ]
}