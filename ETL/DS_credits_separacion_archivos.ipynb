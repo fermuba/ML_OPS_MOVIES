{
  "nbformat": 4,
  "nbformat_minor": 0,
  "metadata": {
    "colab": {
      "provenance": [],
      "authorship_tag": "ABX9TyOhnr4oFsmACqtqHKZX1gPv",
      "include_colab_link": true
    },
    "kernelspec": {
      "name": "python3",
      "display_name": "Python 3"
    },
    "language_info": {
      "name": "python"
    }
  },
  "cells": [
    {
      "cell_type": "markdown",
      "metadata": {
        "id": "view-in-github",
        "colab_type": "text"
      },
      "source": [
        "<a href=\"https://colab.research.google.com/github/fermuba/ML_OPS_MOVIES/blob/main/ETL/DS_credits_separacion_archivos.ipynb\" target=\"_parent\"><img src=\"https://colab.research.google.com/assets/colab-badge.svg\" alt=\"Open In Colab\"/></a>"
      ]
    },
    {
      "cell_type": "markdown",
      "source": [
        "## División de archivo, en dos partes para obtener directores y actores, luego de una limpieza"
      ],
      "metadata": {
        "id": "Z6DcZypvl3cE"
      }
    },
    {
      "cell_type": "code",
      "execution_count": null,
      "metadata": {
        "colab": {
          "base_uri": "https://localhost:8080/"
        },
        "id": "5cymzSnjqkZk",
        "outputId": "b19d0ad6-0d14-49eb-fe80-2801046d2f46"
      },
      "outputs": [
        {
          "output_type": "stream",
          "name": "stdout",
          "text": [
            "Mounted at /content/drive\n"
          ]
        }
      ],
      "source": [
        "# Acceso a los archivos de Drive\n",
        "from google.colab import drive\n",
        "\n",
        "drive.mount('/content/drive')"
      ]
    },
    {
      "cell_type": "code",
      "execution_count": null,
      "metadata": {
        "id": "NeWbo-dcD1-v"
      },
      "outputs": [],
      "source": [
        "# Carga de Librerias de uso\n",
        "import pandas as pd"
      ]
    },
    {
      "cell_type": "code",
      "source": [
        "# Insgesta del archivos movie_dataset.csv\n",
        "credits = pd.read_csv('/content/drive/MyDrive/Colab/HENRY/PI-1/Data_font/credits.csv')"
      ],
      "metadata": {
        "id": "9TatDv0iEW_D"
      },
      "execution_count": null,
      "outputs": []
    },
    {
      "cell_type": "code",
      "source": [
        "# Informacion del Df\n",
        "credits.info()"
      ],
      "metadata": {
        "colab": {
          "base_uri": "https://localhost:8080/"
        },
        "id": "ncZOY10meBxg",
        "outputId": "5f33e7e8-9d76-4059-a99d-c81072741449"
      },
      "execution_count": null,
      "outputs": [
        {
          "output_type": "stream",
          "name": "stdout",
          "text": [
            "<class 'pandas.core.frame.DataFrame'>\n",
            "RangeIndex: 45476 entries, 0 to 45475\n",
            "Data columns (total 3 columns):\n",
            " #   Column  Non-Null Count  Dtype \n",
            "---  ------  --------------  ----- \n",
            " 0   cast    45476 non-null  object\n",
            " 1   crew    45476 non-null  object\n",
            " 2   id      45476 non-null  int64 \n",
            "dtypes: int64(1), object(2)\n",
            "memory usage: 1.0+ MB\n"
          ]
        }
      ]
    },
    {
      "cell_type": "code",
      "source": [
        "# Creacion de dataFrames individuales\n",
        "credits_cast = credits.loc[:, ['id', 'cast']]\n",
        "credits_crew = credits.loc[:, ['id', 'crew']]\n",
        "\n",
        "# Exportacion a archivos\n",
        "credits_cast.to_csv('/content/drive/MyDrive/Colab/HENRY/PI-1/Data_font/credits_cast.csv')\n",
        "credits_crew.to_csv('/content/drive/MyDrive/Colab/HENRY/PI-1/Data_font/credits_crew.csv')"
      ],
      "metadata": {
        "id": "lCdXv_EBe50l"
      },
      "execution_count": null,
      "outputs": []
    }
  ]
}